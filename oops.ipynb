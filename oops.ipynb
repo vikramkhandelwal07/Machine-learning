{
 "cells": [
  {
   "cell_type": "markdown",
   "id": "0ec64694",
   "metadata": {},
   "source": [
    "## oops"
   ]
  },
  {
   "cell_type": "code",
   "execution_count": null,
   "id": "99b08320",
   "metadata": {},
   "outputs": [],
   "source": [
    "\n",
    "\n"
   ]
  },
  {
   "cell_type": "code",
   "execution_count": null,
   "id": "fff5c21f",
   "metadata": {},
   "outputs": [],
   "source": [
    "class car:\n",
    "    def __init__(self, brand_name , fuletype,body_type):\n",
    "        \n",
    "        self.brand_name = brand_name\n",
    "        self.fuletype = fuletype\n",
    "        self.body_type = body_type\n",
    "        \n",
    "    def desc_car():\n",
    "        print(self.brand_name, self.fuletype, self.body_type)"
   ]
  },
  {
   "cell_type": "code",
   "execution_count": null,
   "id": "85ee96f4",
   "metadata": {},
   "outputs": [],
   "source": [
    "innova = car(\"toyata\" , \"petrol\" ,\"suv\")"
   ]
  },
  {
   "cell_type": "code",
   "execution_count": null,
   "id": "ac6ec5a5",
   "metadata": {},
   "outputs": [],
   "source": [
    "class list_parser :\n",
    "    def __init__(self,l):\n",
    "        self.l = l\n",
    "    \n",
    "    def parscr(self):\n",
    "        if type(self.l) == list :\n",
    "            for i in self.l:\n",
    "                print(i)\n",
    "    \n",
    "    def reverse_parser(self):\n",
    "        if type (self.l) == list:\n",
    "            return self.l[::-1]"
   ]
  },
  {
   "cell_type": "code",
   "execution_count": null,
   "id": "de373af0",
   "metadata": {},
   "outputs": [],
   "source": [
    "c = list_parser([2,3,4,5,7,8])\n",
    "c.parscr()"
   ]
  },
  {
   "cell_type": "code",
   "execution_count": 2,
   "id": "6182d5c3",
   "metadata": {},
   "outputs": [],
   "source": [
    "class mydictionary:\n",
    "    def __init__(self,d):\n",
    "        self.d = d\n",
    "# \"\"\"this code is to get the keys of dictionary in the form of list \"\"\" \n",
    "    def get_keys(self):\n",
    "        D =[]\n",
    "        if type(self.d) == dict:\n",
    "            for i in self.d:\n",
    "                D.append(i)\n",
    "            print(D)\n",
    "# \"\"\"this code is there to get the vlues of the dictionary for a given pair of key and value in the form of a list \"\"\"\n",
    "    def get_values(self):\n",
    "        V =[]\n",
    "        if type(self.d) == dict:\n",
    "            for i in self.d.values():\n",
    "                V.append(i)\n",
    "            print(V)        "
   ]
  },
  {
   "cell_type": "code",
   "execution_count": 3,
   "id": "747f2586",
   "metadata": {},
   "outputs": [
    {
     "name": "stdout",
     "output_type": "stream",
     "text": [
      "['a', 'b', 'c']\n",
      "[1, 2, 3]\n"
     ]
    }
   ],
   "source": [
    "c = mydictionary({\"a\" : 1, \"b\" : 2 , \"c\" : 3})\n",
    "c.get_keys()\n",
    "c.get_values()\n",
    "\n"
   ]
  },
  {
   "cell_type": "code",
   "execution_count": null,
   "id": "e748a831",
   "metadata": {},
   "outputs": [],
   "source": [
    "class dic_parsing:\n",
    "    \n",
    "    def __init__(self,a):\n",
    "        self.a = a\n",
    "        \n",
    "    def getkeys(self):\n",
    "        if self.nondict():\n",
    "            return list(self.a.keys())\n",
    "    \n",
    "    def getvalues(self):\n",
    "        if self.nondict():\n",
    "            return list(self.a.values())\n",
    "    \n",
    "    def nondict(self):\n",
    "        if type(self.a) != dict:\n",
    "            raise exception(self.a ,\"not a doctionary\")\n",
    "        return 1\n",
    "        \n",
    "    def userinput(self):\n",
    "        self.a = eval(input())\n",
    "        print(self.a , type(self.a))\n",
    "        print(self.getkeys())\n",
    "        print(self.getvalues())\n",
    "        \n",
    "    def insertion(self , k , v):\n",
    "        self.a[k] = v"
   ]
  },
  {
   "cell_type": "markdown",
   "id": "c71efeab",
   "metadata": {},
   "source": [
    "## inheritance and polymorphism"
   ]
  },
  {
   "cell_type": "code",
   "execution_count": 1,
   "id": "6c6fb6fd",
   "metadata": {},
   "outputs": [],
   "source": [
    "class xyz:\n",
    "    def __init__(self,a,b,c):\n",
    "        self.a = a\n",
    "        self.b = b\n",
    "        self.c = c\n",
    "        \n",
    "    def test(self):\n",
    "        print(\"this is a method of xyz class\")\n",
    "    \n",
    "class xyz1:\n",
    "    def __init__(self,p,q,r):\n",
    "        self.p = p\n",
    "        self.q = q\n",
    "        self.r = r\n",
    "        \n",
    "    def test1(self):\n",
    "        print(\"this is a method of xyz1 class\")\n",
    "        \n",
    "class child(xyz,xyz1):\n",
    "    pass\n"
   ]
  },
  {
   "cell_type": "code",
   "execution_count": 5,
   "id": "f3eb796c",
   "metadata": {},
   "outputs": [],
   "source": [
    "# by default it will take all the variable from the first class and all function from all the class\n",
    "# so iss case mai wo sirf a b c hi mangega aur p q r nahi lega "
   ]
  },
  {
   "cell_type": "code",
   "execution_count": 4,
   "id": "f5137a02",
   "metadata": {},
   "outputs": [],
   "source": [
    "n = child(1,2,3)\n",
    "# jo pehle likha hai uske hi variables lega and dusre ke nahi lega ....jabki functions/methods dono ke hi lelega ..."
   ]
  },
  {
   "cell_type": "code",
   "execution_count": 11,
   "id": "31da5ac3",
   "metadata": {},
   "outputs": [],
   "source": [
    "class child(xyz,xyz1):\n",
    "    def __init__(self , *args, **kwargs):\n",
    "        xyz.__init__(self,*args)\n",
    "        xyz1.__init__(self,**kwargs)"
   ]
  },
  {
   "cell_type": "code",
   "execution_count": 12,
   "id": "94ca13d0",
   "metadata": {},
   "outputs": [],
   "source": [
    "n = child(1,2,3,p=4,q=5,r=6)\n",
    "# ab sarre varibles aah gaye "
   ]
  },
  {
   "cell_type": "code",
   "execution_count": 8,
   "id": "3fe4caef",
   "metadata": {},
   "outputs": [
    {
     "data": {
      "text/plain": [
       "1"
      ]
     },
     "execution_count": 8,
     "metadata": {},
     "output_type": "execute_result"
    }
   ],
   "source": [
    "n.a"
   ]
  },
  {
   "cell_type": "code",
   "execution_count": 13,
   "id": "c746dd2e",
   "metadata": {},
   "outputs": [
    {
     "data": {
      "text/plain": [
       "4"
      ]
     },
     "execution_count": 13,
     "metadata": {},
     "output_type": "execute_result"
    }
   ],
   "source": [
    "n.p"
   ]
  },
  {
   "cell_type": "code",
   "execution_count": null,
   "id": "0988f5b6",
   "metadata": {},
   "outputs": [],
   "source": []
  }
 ],
 "metadata": {
  "kernelspec": {
   "display_name": "Python 3 (ipykernel)",
   "language": "python",
   "name": "python3"
  },
  "language_info": {
   "codemirror_mode": {
    "name": "ipython",
    "version": 3
   },
   "file_extension": ".py",
   "mimetype": "text/x-python",
   "name": "python",
   "nbconvert_exporter": "python",
   "pygments_lexer": "ipython3",
   "version": "3.11.5"
  }
 },
 "nbformat": 4,
 "nbformat_minor": 5
}
