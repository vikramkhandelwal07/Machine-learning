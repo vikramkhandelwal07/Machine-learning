{
 "cells": [
  {
   "cell_type": "markdown",
   "id": "ee8a55e1-138b-460b-b261-3a74a97ad335",
   "metadata": {},
   "source": [
    "# pandas"
   ]
  },
  {
   "cell_type": "markdown",
   "id": "1f806aaf-e26b-49b6-a854-b4052e1df8c3",
   "metadata": {},
   "source": [
    "## series indexing"
   ]
  },
  {
   "cell_type": "code",
   "execution_count": 1,
   "id": "ba5a6949-255c-4cff-8361-9d60ab652d9c",
   "metadata": {},
   "outputs": [],
   "source": [
    "# interger indexing\n",
    "import numpy as np\n",
    "import pandas as pd"
   ]
  },
  {
   "cell_type": "code",
   "execution_count": 8,
   "id": "821aeccc-7353-46ee-92c4-74a8e88388d0",
   "metadata": {},
   "outputs": [
    {
     "data": {
      "text/plain": [
       "0    12\n",
       "1    13\n",
       "2    14\n",
       "3    35\n",
       "4    46\n",
       "5    57\n",
       "6    58\n",
       "7    79\n",
       "8     9\n",
       "dtype: int64"
      ]
     },
     "execution_count": 8,
     "metadata": {},
     "output_type": "execute_result"
    }
   ],
   "source": [
    "x = pd.Series([12,13,14,35,46,57,58,79,9])\n",
    "x\n",
    "# does not work on negative axis "
   ]
  },
  {
   "cell_type": "code",
   "execution_count": 5,
   "id": "8f0ed3d7-6d9c-4291-8b5c-937e9a50066d",
   "metadata": {},
   "outputs": [
    {
     "data": {
      "text/plain": [
       "12"
      ]
     },
     "execution_count": 5,
     "metadata": {},
     "output_type": "execute_result"
    }
   ],
   "source": [
    "x[0]"
   ]
  },
  {
   "cell_type": "code",
   "execution_count": 6,
   "id": "f15f30bb-d85e-4c40-8628-f0494a9ddb95",
   "metadata": {},
   "outputs": [
    {
     "data": {
      "text/plain": [
       "13"
      ]
     },
     "execution_count": 6,
     "metadata": {},
     "output_type": "execute_result"
    }
   ],
   "source": [
    "x[1]"
   ]
  },
  {
   "cell_type": "code",
   "execution_count": 9,
   "id": "16edd0ec-81e7-4098-a850-167a74475ac3",
   "metadata": {},
   "outputs": [],
   "source": [
    "# -ve indexing mai kam karat hai if indexing is through names "
   ]
  },
  {
   "cell_type": "code",
   "execution_count": 13,
   "id": "c832e71e-203e-4673-9881-e241fe540be8",
   "metadata": {},
   "outputs": [
    {
     "data": {
      "text/plain": [
       "maths       67\n",
       "english    100\n",
       "science     98\n",
       "hindi       85\n",
       "history     95\n",
       "Name: vikram ke marks, dtype: int64"
      ]
     },
     "execution_count": 13,
     "metadata": {},
     "output_type": "execute_result"
    }
   ],
   "source": [
    "marks = {\n",
    "    'maths': 67,\n",
    "    'english' :100,\n",
    "    'science' : 98,\n",
    "    'hindi' : 85,\n",
    "    'history' : 95\n",
    "}\n",
    "marks_series = pd.Series(marks,name ='vikram ke marks')\n",
    "marks_series"
   ]
  },
  {
   "cell_type": "markdown",
   "id": "cc40f403-21ae-4fb9-a944-48c7243e3346",
   "metadata": {},
   "source": [
    "# editing series "
   ]
  },
  {
   "cell_type": "code",
   "execution_count": 16,
   "id": "1307f50d-5fd8-4d46-9e04-827f76273784",
   "metadata": {},
   "outputs": [
    {
     "name": "stderr",
     "output_type": "stream",
     "text": [
      "C:\\Users\\viks\\AppData\\Local\\Temp\\ipykernel_22212\\2054444182.py:1: FutureWarning: Series.__setitem__ treating keys as positions is deprecated. In a future version, integer keys will always be treated as labels (consistent with DataFrame behavior). To set a value by position, use `ser.iloc[pos] = value`\n",
      "  marks_series[0] = 99\n"
     ]
    },
    {
     "data": {
      "text/plain": [
       "maths       99\n",
       "english    100\n",
       "science     98\n",
       "hindi       85\n",
       "history     95\n",
       "Name: vikram ke marks, dtype: int64"
      ]
     },
     "execution_count": 16,
     "metadata": {},
     "output_type": "execute_result"
    }
   ],
   "source": [
    "marks_series[0] = 99\n",
    "marks_series"
   ]
  },
  {
   "cell_type": "code",
   "execution_count": 17,
   "id": "6b5fcc05-b9f4-42fa-8589-1af57d69b490",
   "metadata": {},
   "outputs": [
    {
     "data": {
      "text/plain": [
       "maths       99\n",
       "english    100\n",
       "science     98\n",
       "hindi       85\n",
       "history     95\n",
       "geo         90\n",
       "Name: vikram ke marks, dtype: int64"
      ]
     },
     "execution_count": 17,
     "metadata": {},
     "output_type": "execute_result"
    }
   ],
   "source": [
    "# what if an index does not exist \n",
    "marks_series['geo'] = 90 #isse add hojayega \n",
    "marks_series"
   ]
  },
  {
   "cell_type": "code",
   "execution_count": 19,
   "id": "27d82892-3aab-4986-be7d-f26ea2d97f1b",
   "metadata": {},
   "outputs": [
    {
     "data": {
      "text/plain": [
       "maths       99\n",
       "english    100\n",
       "science     50\n",
       "hindi       50\n",
       "history     95\n",
       "geo         90\n",
       "Name: vikram ke marks, dtype: int64"
      ]
     },
     "execution_count": 19,
     "metadata": {},
     "output_type": "execute_result"
    }
   ],
   "source": [
    "# slicing se bhi ho jayega\n",
    "marks_series[2:4] = [50, 50]\n",
    "marks_series"
   ]
  },
  {
   "cell_type": "code",
   "execution_count": null,
   "id": "71b329c9-7152-4546-be38-c0ca2b45549b",
   "metadata": {},
   "outputs": [],
   "source": []
  }
 ],
 "metadata": {
  "kernelspec": {
   "display_name": "Python 3 (ipykernel)",
   "language": "python",
   "name": "python3"
  },
  "language_info": {
   "codemirror_mode": {
    "name": "ipython",
    "version": 3
   },
   "file_extension": ".py",
   "mimetype": "text/x-python",
   "name": "python",
   "nbconvert_exporter": "python",
   "pygments_lexer": "ipython3",
   "version": "3.11.7"
  },
  "widgets": {
   "application/vnd.jupyter.widget-state+json": {
    "state": {},
    "version_major": 2,
    "version_minor": 0
   }
  }
 },
 "nbformat": 4,
 "nbformat_minor": 5
}
