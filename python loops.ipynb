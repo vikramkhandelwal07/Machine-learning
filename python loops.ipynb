{
 "cells": [
  {
   "cell_type": "code",
   "execution_count": 1,
   "id": "09ff54cf",
   "metadata": {},
   "outputs": [],
   "source": [
    "s = \"this is basic python string\"\n",
    "len(s)"
   ]
  },
  {
   "cell_type": "code",
   "execution_count": 5,
   "id": "d91cec06",
   "metadata": {},
   "outputs": [
    {
     "name": "stdout",
     "output_type": "stream",
     "text": [
      "23\n"
     ]
    }
   ],
   "source": [
    "count = 0\n",
    "for i in s:\n",
    "    count+=1\n",
    "print(count)"
   ]
  },
  {
   "cell_type": "code",
   "execution_count": 6,
   "id": "4f8a192a",
   "metadata": {},
   "outputs": [
    {
     "data": {
      "text/plain": [
       "'gnirts nohtyp a si siht'"
      ]
     },
     "execution_count": 6,
     "metadata": {},
     "output_type": "execute_result"
    }
   ],
   "source": [
    "s[::-1]"
   ]
  },
  {
   "cell_type": "code",
   "execution_count": 13,
   "id": "e5e8f8cb",
   "metadata": {},
   "outputs": [
    {
     "name": "stdout",
     "output_type": "stream",
     "text": [
      "gnirts nohtyp cisab si siht"
     ]
    }
   ],
   "source": [
    "s = \"this is basic python string\"\n",
    "for i in range(len(s)-1,-1,-1):\n",
    "    print(s[i],end=\"\")  "
   ]
  },
  {
   "cell_type": "code",
   "execution_count": 16,
   "id": "10b0082e",
   "metadata": {},
   "outputs": [
    {
     "name": "stdout",
     "output_type": "stream",
     "text": [
      "g n i r t s   n o h t y p   c i s a b   s i   s i h t "
     ]
    }
   ],
   "source": [
    "i = len(s)-1\n",
    "while i>=0:\n",
    "    print(s[i],end=\" \")\n",
    "    i-=1\n",
    "    "
   ]
  },
  {
   "cell_type": "code",
   "execution_count": 19,
   "id": "69610cad",
   "metadata": {},
   "outputs": [
    {
     "name": "stdout",
     "output_type": "stream",
     "text": [
      "vowel i\n",
      "vowel e\n",
      "vowel u\n",
      "vowel o\n"
     ]
    }
   ],
   "source": [
    "s = \"ineuron\"\n",
    "v = \"AaEeIiOoUu\"\n",
    "for i in s:\n",
    "    if i in v:\n",
    "        print (\"vowel\", i)"
   ]
  },
  {
   "cell_type": "code",
   "execution_count": 27,
   "id": "06769659",
   "metadata": {},
   "outputs": [
    {
     "name": "stdout",
     "output_type": "stream",
     "text": [
      "enter your string :123454321\n",
      "is palindrome\n"
     ]
    }
   ],
   "source": [
    "s = input(\"enter your string :\")\n",
    "if s[::-1] == s:\n",
    "    print (\"is palindrome\")\n",
    "else:\n",
    "    print(\"not a palindrome \")\n"
   ]
  },
  {
   "cell_type": "code",
   "execution_count": 34,
   "id": "c8cf2695",
   "metadata": {},
   "outputs": [],
   "source": [
    "d = {\"india\": \"IN\",\n",
    "    \"canada\" : \"ca\",\n",
    "    \"china\": \"CH\",\n",
    "    \"united states\" : \"us\"}"
   ]
  },
  {
   "cell_type": "code",
   "execution_count": 30,
   "id": "7a30a24c",
   "metadata": {},
   "outputs": [
    {
     "data": {
      "text/plain": [
       "True"
      ]
     },
     "execution_count": 30,
     "metadata": {},
     "output_type": "execute_result"
    }
   ],
   "source": [
    "\"india\" in d"
   ]
  },
  {
   "cell_type": "code",
   "execution_count": 35,
   "id": "508793e9",
   "metadata": {},
   "outputs": [
    {
     "name": "stdout",
     "output_type": "stream",
     "text": [
      "['india', 'china']\n",
      "['canada', 'united states']\n"
     ]
    }
   ],
   "source": [
    "small =[]\n",
    "big = []\n",
    "for i in d:\n",
    "    if len(i)<=5:\n",
    "        small.append(i)\n",
    "    else:\n",
    "        big.append(i)\n",
    "        \n",
    "print(small)\n",
    "print(big)\n",
    "    "
   ]
  },
  {
   "cell_type": "code",
   "execution_count": 46,
   "id": "cd3cea77",
   "metadata": {},
   "outputs": [],
   "source": [
    "d_1 ={\"ineuron\" :{\n",
    "                    \"a\" :14,\n",
    "                    \"b\" :10,\n",
    "                    \"c\" :4\n",
    "                    },\n",
    "      \"course\" :{\n",
    "                    \"d\" :45,\n",
    "                    \"e\" :4,\n",
    "                    \"f\" :1\n",
    "      }\n",
    "}"
   ]
  },
  {
   "cell_type": "code",
   "execution_count": 49,
   "id": "e4395554",
   "metadata": {},
   "outputs": [
    {
     "name": "stdout",
     "output_type": "stream",
     "text": [
      "{'a': 14, 'b': 10, 'c': 4}\n",
      "14\n",
      "{'d': 45, 'e': 4, 'f': 1}\n",
      "45\n"
     ]
    }
   ],
   "source": [
    "lst =[]\n",
    "for i in d_1.values():\n",
    "    print(i)\n",
    "    for j in i.values():\n",
    "        lst.append(j)\n",
    "    print(max(lst))\n"
   ]
  },
  {
   "cell_type": "markdown",
   "id": "3863ff4b",
   "metadata": {},
   "source": [
    "# functions practice"
   ]
  },
  {
   "cell_type": "code",
   "execution_count": 50,
   "id": "0fae7363",
   "metadata": {},
   "outputs": [
    {
     "data": {
      "text/plain": [
       "'to pass multiple argument you can use *nameOfArgument '"
      ]
     },
     "execution_count": 50,
     "metadata": {},
     "output_type": "execute_result"
    }
   ],
   "source": [
    "def test1(*args):\n",
    "    return args\n",
    "\"\"\"to pass multiple argument you can use *nameOfArgument \"\"\""
   ]
  },
  {
   "cell_type": "code",
   "execution_count": 51,
   "id": "75d88d39",
   "metadata": {},
   "outputs": [
    {
     "data": {
      "text/plain": [
       "'to pass multiple argument with key value pair you can use **nameOfArguments  '"
      ]
     },
     "execution_count": 51,
     "metadata": {},
     "output_type": "execute_result"
    }
   ],
   "source": [
    "def test2(**kwargs):\n",
    "    return kwargs \n",
    "\"\"\"to pass multiple argument with key value pair you can use **nameOfArguments  \"\"\""
   ]
  },
  {
   "cell_type": "code",
   "execution_count": 52,
   "id": "637ab00b",
   "metadata": {},
   "outputs": [
    {
     "data": {
      "text/plain": [
       "'u need to maintain the order of the a args annd kwargs '"
      ]
     },
     "execution_count": 52,
     "metadata": {},
     "output_type": "execute_result"
    }
   ],
   "source": [
    "def test3(a,*args,**kwargs):\n",
    "    return a , args , kwargs\n",
    "\"\"\"u need to maintain the order of the a args annd kwargs \"\"\""
   ]
  },
  {
   "cell_type": "code",
   "execution_count": 53,
   "id": "2a54c198",
   "metadata": {},
   "outputs": [
    {
     "data": {
      "text/plain": [
       "'now suppose i have to create a function without name i can use lambda it is a reserved word in python '"
      ]
     },
     "execution_count": 53,
     "metadata": {},
     "output_type": "execute_result"
    }
   ],
   "source": [
    "\"\"\"now suppose i have to create a function without name i can use lambda it is a reserved word in python \"\"\"\n"
   ]
  },
  {
   "cell_type": "code",
   "execution_count": 64,
   "id": "629c27d2",
   "metadata": {},
   "outputs": [
    {
     "data": {
      "text/plain": [
       "'after the semicoln we expect the retrun the from \\n it whatever is written after semicolon'"
      ]
     },
     "execution_count": 64,
     "metadata": {},
     "output_type": "execute_result"
    }
   ],
   "source": [
    "a = lambda a, b: a*b\n",
    "a(8,3)\n",
    "\"\"\"after the semicoln we expect the retrun the from \n",
    " it whatever is written after semicolon\"\"\""
   ]
  },
  {
   "cell_type": "code",
   "execution_count": 65,
   "id": "6af68ae9",
   "metadata": {},
   "outputs": [],
   "source": [
    "l =[2,55,3,355,6,7,78,2,545,656,6,7,8,9]"
   ]
  },
  {
   "cell_type": "code",
   "execution_count": 66,
   "id": "5568b575",
   "metadata": {},
   "outputs": [
    {
     "data": {
      "text/plain": [
       "[4, 57, 5, 357, 8, 9, 80, 4, 547, 658, 8, 9, 10, 11]"
      ]
     },
     "execution_count": 66,
     "metadata": {},
     "output_type": "execute_result"
    }
   ],
   "source": [
    "[i+2 for i in l]"
   ]
  },
  {
   "cell_type": "code",
   "execution_count": 70,
   "id": "965dae5e",
   "metadata": {},
   "outputs": [
    {
     "data": {
      "text/plain": [
       "[(4, 4),\n",
       " (57, 110),\n",
       " (5, 6),\n",
       " (357, 710),\n",
       " (8, 12),\n",
       " (9, 14),\n",
       " (80, 156),\n",
       " (4, 4),\n",
       " (547, 1090),\n",
       " (658, 1312),\n",
       " (8, 12),\n",
       " (9, 14),\n",
       " (10, 16),\n",
       " (11, 18)]"
      ]
     },
     "execution_count": 70,
     "metadata": {},
     "output_type": "execute_result"
    }
   ],
   "source": [
    "[(i+2, i*2) for i in l]"
   ]
  },
  {
   "cell_type": "code",
   "execution_count": 71,
   "id": "b06412ff",
   "metadata": {},
   "outputs": [
    {
     "data": {
      "text/plain": [
       "'for list comprehension it gives the return at LHS and procdeure in mid and condition in RHS'"
      ]
     },
     "execution_count": 71,
     "metadata": {},
     "output_type": "execute_result"
    }
   ],
   "source": [
    "\"\"\"for list comprehension it gives the return at LHS and procdeure in mid and condition in RHS\"\"\""
   ]
  },
  {
   "cell_type": "code",
   "execution_count": 72,
   "id": "ceb6d7cf",
   "metadata": {},
   "outputs": [
    {
     "data": {
      "text/plain": [
       "[4, 5, 4]"
      ]
     },
     "execution_count": 72,
     "metadata": {},
     "output_type": "execute_result"
    }
   ],
   "source": [
    "[i+2 for i in l if i<4]"
   ]
  },
  {
   "cell_type": "markdown",
   "id": "03a303f5",
   "metadata": {},
   "source": [
    "# iterator generator and iterable"
   ]
  },
  {
   "cell_type": "code",
   "execution_count": 2,
   "id": "16f5a46d",
   "metadata": {},
   "outputs": [],
   "source": [
    "l = [1,2,3,4,5,6]"
   ]
  },
  {
   "cell_type": "code",
   "execution_count": 3,
   "id": "858340f8",
   "metadata": {},
   "outputs": [
    {
     "ename": "TypeError",
     "evalue": "'list' object is not an iterator",
     "output_type": "error",
     "traceback": [
      "\u001b[1;31m---------------------------------------------------------------------------\u001b[0m",
      "\u001b[1;31mTypeError\u001b[0m                                 Traceback (most recent call last)",
      "Cell \u001b[1;32mIn[3], line 1\u001b[0m\n\u001b[1;32m----> 1\u001b[0m \u001b[38;5;28mnext\u001b[39m(l)\n",
      "\u001b[1;31mTypeError\u001b[0m: 'list' object is not an iterator"
     ]
    }
   ],
   "source": [
    "next(l)"
   ]
  },
  {
   "cell_type": "code",
   "execution_count": 4,
   "id": "99f8da28",
   "metadata": {},
   "outputs": [],
   "source": [
    "l = iter(l)"
   ]
  },
  {
   "cell_type": "code",
   "execution_count": 5,
   "id": "f465ca30",
   "metadata": {},
   "outputs": [
    {
     "data": {
      "text/plain": [
       "1"
      ]
     },
     "execution_count": 5,
     "metadata": {},
     "output_type": "execute_result"
    }
   ],
   "source": [
    "next(l)"
   ]
  },
  {
   "cell_type": "code",
   "execution_count": 6,
   "id": "ce231106",
   "metadata": {},
   "outputs": [
    {
     "data": {
      "text/plain": [
       "2"
      ]
     },
     "execution_count": 6,
     "metadata": {},
     "output_type": "execute_result"
    }
   ],
   "source": [
    "next(l)"
   ]
  },
  {
   "cell_type": "code",
   "execution_count": 7,
   "id": "4df48b27",
   "metadata": {},
   "outputs": [
    {
     "data": {
      "text/plain": [
       "3"
      ]
     },
     "execution_count": 7,
     "metadata": {},
     "output_type": "execute_result"
    }
   ],
   "source": [
    "next(l)"
   ]
  },
  {
   "cell_type": "code",
   "execution_count": 8,
   "id": "16dbc2b5",
   "metadata": {},
   "outputs": [
    {
     "data": {
      "text/plain": [
       "4"
      ]
     },
     "execution_count": 8,
     "metadata": {},
     "output_type": "execute_result"
    }
   ],
   "source": [
    "next(l)"
   ]
  },
  {
   "cell_type": "code",
   "execution_count": 9,
   "id": "a5b58a83",
   "metadata": {},
   "outputs": [
    {
     "data": {
      "text/plain": [
       "5"
      ]
     },
     "execution_count": 9,
     "metadata": {},
     "output_type": "execute_result"
    }
   ],
   "source": [
    "next(l)"
   ]
  },
  {
   "cell_type": "code",
   "execution_count": 10,
   "id": "f4c320ca",
   "metadata": {},
   "outputs": [
    {
     "data": {
      "text/plain": [
       "6"
      ]
     },
     "execution_count": 10,
     "metadata": {},
     "output_type": "execute_result"
    }
   ],
   "source": [
    "next(l)"
   ]
  },
  {
   "cell_type": "code",
   "execution_count": 11,
   "id": "5fe5f26a",
   "metadata": {},
   "outputs": [
    {
     "ename": "StopIteration",
     "evalue": "",
     "output_type": "error",
     "traceback": [
      "\u001b[1;31m---------------------------------------------------------------------------\u001b[0m",
      "\u001b[1;31mStopIteration\u001b[0m                             Traceback (most recent call last)",
      "Cell \u001b[1;32mIn[11], line 1\u001b[0m\n\u001b[1;32m----> 1\u001b[0m \u001b[38;5;28mnext\u001b[39m(l)\n",
      "\u001b[1;31mStopIteration\u001b[0m: "
     ]
    }
   ],
   "source": [
    "next(l)"
   ]
  },
  {
   "cell_type": "code",
   "execution_count": 12,
   "id": "b7e490c9",
   "metadata": {},
   "outputs": [],
   "source": [
    "a = 56"
   ]
  },
  {
   "cell_type": "code",
   "execution_count": 13,
   "id": "cdcaae1d",
   "metadata": {},
   "outputs": [
    {
     "ename": "TypeError",
     "evalue": "'int' object is not an iterator",
     "output_type": "error",
     "traceback": [
      "\u001b[1;31m---------------------------------------------------------------------------\u001b[0m",
      "\u001b[1;31mTypeError\u001b[0m                                 Traceback (most recent call last)",
      "Cell \u001b[1;32mIn[13], line 1\u001b[0m\n\u001b[1;32m----> 1\u001b[0m \u001b[38;5;28mnext\u001b[39m(a)\n",
      "\u001b[1;31mTypeError\u001b[0m: 'int' object is not an iterator"
     ]
    }
   ],
   "source": [
    "next(a)"
   ]
  },
  {
   "cell_type": "code",
   "execution_count": 14,
   "id": "4332d8c7",
   "metadata": {},
   "outputs": [
    {
     "ename": "TypeError",
     "evalue": "'int' object is not iterable",
     "output_type": "error",
     "traceback": [
      "\u001b[1;31m---------------------------------------------------------------------------\u001b[0m",
      "\u001b[1;31mTypeError\u001b[0m                                 Traceback (most recent call last)",
      "Cell \u001b[1;32mIn[14], line 1\u001b[0m\n\u001b[1;32m----> 1\u001b[0m a \u001b[38;5;241m=\u001b[39m \u001b[38;5;28miter\u001b[39m(a)\n",
      "\u001b[1;31mTypeError\u001b[0m: 'int' object is not iterable"
     ]
    }
   ],
   "source": [
    "a = iter(a)"
   ]
  },
  {
   "cell_type": "markdown",
   "id": "249ddb5f",
   "metadata": {},
   "source": [
    "#### i.e int is not an iterable object ....pehle iterator ko iterable mai convert karo by \" iter()a \"  and then usko next() ka use karke print karsakte ho ...isse hume pata chala ki for loop kese work karta hai internally "
   ]
  },
  {
   "cell_type": "code",
   "execution_count": 15,
   "id": "24399f58",
   "metadata": {},
   "outputs": [
    {
     "data": {
      "text/plain": [
       "range(0, 45)"
      ]
     },
     "execution_count": 15,
     "metadata": {},
     "output_type": "execute_result"
    }
   ],
   "source": [
    "range(45)"
   ]
  },
  {
   "cell_type": "code",
   "execution_count": 16,
   "id": "61cac593",
   "metadata": {},
   "outputs": [
    {
     "data": {
      "text/plain": [
       "range(0, 45, 3)"
      ]
     },
     "execution_count": 16,
     "metadata": {},
     "output_type": "execute_result"
    }
   ],
   "source": [
    "range(0,45,3)"
   ]
  },
  {
   "cell_type": "code",
   "execution_count": 17,
   "id": "738d35a2",
   "metadata": {},
   "outputs": [
    {
     "data": {
      "text/plain": [
       "[0, 3, 6, 9, 12, 15, 18, 21, 24, 27, 30, 33, 36, 39, 42]"
      ]
     },
     "execution_count": 17,
     "metadata": {},
     "output_type": "execute_result"
    }
   ],
   "source": [
    "list(range(0,45,3))"
   ]
  },
  {
   "cell_type": "markdown",
   "id": "4b2458c4",
   "metadata": {},
   "source": [
    "## generator"
   ]
  },
  {
   "cell_type": "code",
   "execution_count": 18,
   "id": "35139ce4",
   "metadata": {},
   "outputs": [],
   "source": [
    "def gencube(n):\n",
    "    for i in range(n):\n",
    "        yield i**3"
   ]
  },
  {
   "cell_type": "code",
   "execution_count": 19,
   "id": "d59706df",
   "metadata": {},
   "outputs": [
    {
     "data": {
      "text/plain": [
       "<generator object gencube at 0x0000021BB74D4EE0>"
      ]
     },
     "execution_count": 19,
     "metadata": {},
     "output_type": "execute_result"
    }
   ],
   "source": [
    "gencube(10)"
   ]
  },
  {
   "cell_type": "code",
   "execution_count": 21,
   "id": "ed860289",
   "metadata": {},
   "outputs": [
    {
     "name": "stdout",
     "output_type": "stream",
     "text": [
      "0\n",
      "1\n",
      "8\n",
      "27\n",
      "64\n",
      "125\n",
      "216\n",
      "343\n",
      "512\n"
     ]
    }
   ],
   "source": [
    "for i in gencube(9):\n",
    "    print(i)"
   ]
  },
  {
   "cell_type": "code",
   "execution_count": 22,
   "id": "c0b5ee9f",
   "metadata": {},
   "outputs": [
    {
     "data": {
      "text/plain": [
       "'yeild ki help se apne range type function bana sajte hai jisse ki agar bada value aayega toh pura spcae occupy nahi hoga'"
      ]
     },
     "execution_count": 22,
     "metadata": {},
     "output_type": "execute_result"
    }
   ],
   "source": [
    "\"\"\"so yield kya karega ki wo logic mai yaad rakhega ki tumne pichli bar kya generate kiya tha\n",
    "logic kya hai aur kaha tak jana hai \"\"\"\n",
    "\"\"\"yeild ki help se apne range type function bana sajte hai jisse ki agar bada value aayega toh pura spcae occupy nahi hoga\"\"\""
   ]
  },
  {
   "cell_type": "code",
   "execution_count": null,
   "id": "6c3133b8",
   "metadata": {},
   "outputs": [],
   "source": [
    "\n"
   ]
  },
  {
   "cell_type": "code",
   "execution_count": 31,
   "id": "a8b90e7e",
   "metadata": {},
   "outputs": [],
   "source": [
    "f = open(\"text.txt\",\"w\") "
   ]
  },
  {
   "cell_type": "code",
   "execution_count": 29,
   "id": "fe055670",
   "metadata": {},
   "outputs": [
    {
     "data": {
      "text/plain": [
       "'C:\\\\Users\\\\viks'"
      ]
     },
     "execution_count": 29,
     "metadata": {},
     "output_type": "execute_result"
    }
   ],
   "source": [
    "pwd()"
   ]
  },
  {
   "cell_type": "code",
   "execution_count": 33,
   "id": "279e5108",
   "metadata": {},
   "outputs": [
    {
     "data": {
      "text/plain": [
       "56"
      ]
     },
     "execution_count": 33,
     "metadata": {},
     "output_type": "execute_result"
    }
   ],
   "source": [
    "f.write(\"this is my first file where i am writing something in it\")"
   ]
  },
  {
   "cell_type": "code",
   "execution_count": 34,
   "id": "b22e668d",
   "metadata": {},
   "outputs": [],
   "source": [
    "f.close()"
   ]
  },
  {
   "cell_type": "code",
   "execution_count": 35,
   "id": "bc8af5f3",
   "metadata": {},
   "outputs": [
    {
     "name": "stdout",
     "output_type": "stream",
     "text": [
      "Writing text2.txt\n"
     ]
    }
   ],
   "source": [
    "%%writefile text2.txt\n",
    "this is my data that i want to store in it"
   ]
  },
  {
   "cell_type": "code",
   "execution_count": 37,
   "id": "d515e875",
   "metadata": {},
   "outputs": [],
   "source": [
    "f=open(\"text.txt\")"
   ]
  },
  {
   "cell_type": "code",
   "execution_count": 38,
   "id": "abea96ba",
   "metadata": {},
   "outputs": [
    {
     "data": {
      "text/plain": [
       "'this is my first file where i am writing something in it'"
      ]
     },
     "execution_count": 38,
     "metadata": {},
     "output_type": "execute_result"
    }
   ],
   "source": [
    "f.read()"
   ]
  },
  {
   "cell_type": "code",
   "execution_count": 39,
   "id": "41a52cf3",
   "metadata": {},
   "outputs": [
    {
     "data": {
      "text/plain": [
       "''"
      ]
     },
     "execution_count": 39,
     "metadata": {},
     "output_type": "execute_result"
    }
   ],
   "source": [
    "f.read()"
   ]
  },
  {
   "cell_type": "code",
   "execution_count": 40,
   "id": "88442497",
   "metadata": {},
   "outputs": [
    {
     "data": {
      "text/plain": [
       "4"
      ]
     },
     "execution_count": 40,
     "metadata": {},
     "output_type": "execute_result"
    }
   ],
   "source": [
    "f.seek(4)"
   ]
  },
  {
   "cell_type": "code",
   "execution_count": 41,
   "id": "8026fc07",
   "metadata": {},
   "outputs": [
    {
     "data": {
      "text/plain": [
       "' is my first file where i am writing something in it'"
      ]
     },
     "execution_count": 41,
     "metadata": {},
     "output_type": "execute_result"
    }
   ],
   "source": [
    "f.read()"
   ]
  },
  {
   "cell_type": "code",
   "execution_count": 42,
   "id": "f0bc7be9",
   "metadata": {},
   "outputs": [
    {
     "data": {
      "text/plain": [
       "56"
      ]
     },
     "execution_count": 42,
     "metadata": {},
     "output_type": "execute_result"
    }
   ],
   "source": [
    "f.tell()"
   ]
  },
  {
   "cell_type": "code",
   "execution_count": 50,
   "id": "6097a87a",
   "metadata": {},
   "outputs": [],
   "source": [
    "f= open(\"text.txt\")"
   ]
  },
  {
   "cell_type": "code",
   "execution_count": 51,
   "id": "31954697",
   "metadata": {},
   "outputs": [
    {
     "data": {
      "text/plain": [
       "'this is my first file where i am writing something in it\\nffgivgdiygfbvbv\\ndvyivgvbrvrerv\\nvhyvhvksdvryhfonfm;s\\n\\nvfgierfhldvrohf;ewfhewfuoewjfiewgfoegfhwdhfoewgciwdncdgvfjmfadsasdsad\\n'"
      ]
     },
     "execution_count": 51,
     "metadata": {},
     "output_type": "execute_result"
    }
   ],
   "source": [
    "f.read()"
   ]
  },
  {
   "cell_type": "code",
   "execution_count": 52,
   "id": "d3e0af65",
   "metadata": {},
   "outputs": [
    {
     "data": {
      "text/plain": [
       "0"
      ]
     },
     "execution_count": 52,
     "metadata": {},
     "output_type": "execute_result"
    }
   ],
   "source": [
    "f.seek(0)"
   ]
  },
  {
   "cell_type": "code",
   "execution_count": 53,
   "id": "cbb5d7f7",
   "metadata": {},
   "outputs": [
    {
     "data": {
      "text/plain": [
       "'this is my first file where i am writing something in it\\n'"
      ]
     },
     "execution_count": 53,
     "metadata": {},
     "output_type": "execute_result"
    }
   ],
   "source": [
    "f.readline()"
   ]
  },
  {
   "cell_type": "markdown",
   "id": "f45416b1",
   "metadata": {},
   "source": [
    "### read reads whole data and readline read only single line and if u open your file in r+ mode it will read and write both at the same time"
   ]
  },
  {
   "cell_type": "code",
   "execution_count": null,
   "id": "a58e9548",
   "metadata": {},
   "outputs": [],
   "source": []
  },
  {
   "cell_type": "code",
   "execution_count": null,
   "id": "25119842",
   "metadata": {},
   "outputs": [],
   "source": []
  }
 ],
 "metadata": {
  "kernelspec": {
   "display_name": "Python 3 (ipykernel)",
   "language": "python",
   "name": "python3"
  },
  "language_info": {
   "codemirror_mode": {
    "name": "ipython",
    "version": 3
   },
   "file_extension": ".py",
   "mimetype": "text/x-python",
   "name": "python",
   "nbconvert_exporter": "python",
   "pygments_lexer": "ipython3",
   "version": "3.11.5"
  }
 },
 "nbformat": 4,
 "nbformat_minor": 5
}
