{
 "cells": [
  {
   "cell_type": "code",
   "execution_count": 1,
   "id": "b3b1572c",
   "metadata": {},
   "outputs": [
    {
     "name": "stdout",
     "output_type": "stream",
     "text": [
      "hello\n"
     ]
    }
   ],
   "source": [
    "print(\"hello\")"
   ]
  },
  {
   "cell_type": "code",
   "execution_count": 4,
   "id": "91267367",
   "metadata": {},
   "outputs": [
    {
     "name": "stdout",
     "output_type": "stream",
     "text": [
      "0\n",
      "1\n",
      "False\n"
     ]
    }
   ],
   "source": [
    "# logical operator \n",
    "print (1 and 0)\n",
    "print (1 or 0)\n",
    "print (not 1)"
   ]
  },
  {
   "cell_type": "code",
   "execution_count": null,
   "id": "10387e99",
   "metadata": {},
   "outputs": [],
   "source": [
    "# bit wise operator \n",
    "# & and \n",
    "# | or\n",
    "# ^ xor dono same toh 0 aur alg toh 1\n",
    "\n",
    "# membership operator \n",
    "# in/not in\n",
    "print('d' in 'delhi')\n",
    "print (10 in [1,2,3,4,5])"
   ]
  },
  {
   "cell_type": "code",
   "execution_count": 11,
   "id": "68f4dd4d",
   "metadata": {},
   "outputs": [],
   "source": [
    "# if else in python\n",
    "# if condition:\n",
    "#     code\n",
    "# else:\n",
    "#     code\n",
    "\n",
    "\n",
    "# if-elif-else\n",
    "# if codn:\n",
    "#     code\n",
    "# elif codn:\n",
    "#     code\n",
    "# else:\n",
    "#     code"
   ]
  },
  {
   "cell_type": "code",
   "execution_count": null,
   "id": "947fb94e",
   "metadata": {},
   "outputs": [],
   "source": [
    "# min of 3 numbers :\n",
    "\n",
    "a = int(input(\"enter the number1:\"))\n",
    "b = int(input(\"enter the number2:\"))\n",
    "c = int(input(\"enter the number3:\"))\n",
    "\n",
    "if (a>b and a>c):\n",
    "    print(a)\n",
    "elif (b>a and b>c):\n",
    "    print(b)\n",
    "else :\n",
    "    print(c)"
   ]
  },
  {
   "cell_type": "code",
   "execution_count": 21,
   "id": "3f77df6a",
   "metadata": {},
   "outputs": [
    {
     "data": {
      "text/plain": [
       "2"
      ]
     },
     "execution_count": 21,
     "metadata": {},
     "output_type": "execute_result"
    }
   ],
   "source": [
    "# math\n",
    "import math\n",
    "math.factorial(2)"
   ]
  },
  {
   "cell_type": "code",
   "execution_count": 22,
   "id": "222b091e",
   "metadata": {},
   "outputs": [
    {
     "name": "stdout",
     "output_type": "stream",
     "text": [
      "['False', 'None', 'True', 'and', 'as', 'assert', 'async', 'await', 'break', 'class', 'continue', 'def', 'del', 'elif', 'else', 'except', 'finally', 'for', 'from', 'global', 'if', 'import', 'in', 'is', 'lambda', 'nonlocal', 'not', 'or', 'pass', 'raise', 'return', 'try', 'while', 'with', 'yield']\n"
     ]
    }
   ],
   "source": [
    "# kwyword\n",
    "import keyword\n",
    "print(keyword.kwlist)"
   ]
  },
  {
   "cell_type": "code",
   "execution_count": null,
   "id": "bca262ea",
   "metadata": {},
   "outputs": [],
   "source": [
    "# random\n",
    "import random\n",
    "print (random.randint(1, 100))\n",
    "    \n"
   ]
  },
  {
   "cell_type": "code",
   "execution_count": null,
   "id": "100f0abd",
   "metadata": {},
   "outputs": [],
   "source": [
    "# datetime\n",
    "import datetime\n",
    "print(datetime.datetime.now())"
   ]
  },
  {
   "cell_type": "code",
   "execution_count": null,
   "id": "cde9dc1c",
   "metadata": {},
   "outputs": [],
   "source": [
    "# loops in python\n",
    "# while loop\n",
    "number = int(input(\"enter the number :\"))\n",
    "\n",
    "i=1\n",
    "while i<11:\n",
    "    print(number*i)\n",
    "    i+=1\n",
    "    \n",
    "    \n",
    "    "
   ]
  },
  {
   "cell_type": "code",
   "execution_count": null,
   "id": "db22c2ce",
   "metadata": {},
   "outputs": [],
   "source": [
    "# while loop with else \n",
    "x =1 \n",
    "while x<3:\n",
    "    print(x)\n",
    "    x+=1\n",
    "else:\n",
    "    print(\"limit crosses\")"
   ]
  },
  {
   "cell_type": "code",
   "execution_count": null,
   "id": "b9260bbc",
   "metadata": {},
   "outputs": [],
   "source": [
    "# guessing game in python\n",
    "import math \n",
    "import random\n",
    "###### generate a random number between 1 to 100:\n",
    "\n",
    "number = random.randint(1 , 100)\n",
    "##### print(number)\n",
    "guess = int(input(\"enter your guess value:\"))\n",
    "counter = 1\n",
    "while number!= guess:\n",
    "        if number > guess:\n",
    "            print(\"incorrect guess\")\n",
    "            print(\"enter a big number\")\n",
    "            guess = int(input(\"enter your guess again \"))\n",
    "            counter +=1\n",
    "        else:\n",
    "            print(\"incorrect guess\")\n",
    "            print(\"enter a small number\")\n",
    "            guess = int(input(\"enter your guess again \"))\n",
    "            counter +=1\n",
    "else :\n",
    "        print(\"congratulations, jackpot\")\n",
    "        print(\"attempts\", counter)"
   ]
  },
  {
   "cell_type": "code",
   "execution_count": 12,
   "id": "0b7dd350",
   "metadata": {},
   "outputs": [
    {
     "name": "stdout",
     "output_type": "stream",
     "text": [
      "enter the number of rows: 4\n",
      "1\n",
      "121\n",
      "12321\n",
      "1234321\n"
     ]
    }
   ],
   "source": [
    "rows = int(input(\"enter the number of rows: \"))\n",
    "\n",
    "for i in range(1,rows+1):\n",
    "    for j in range(1,i+1):\n",
    "        print(j,end='')\n",
    "    for k in range(i-1, 0,-1):\n",
    "        print(k,end='')\n",
    "    print()  "
   ]
  },
  {
   "cell_type": "code",
   "execution_count": 18,
   "id": "d422b811",
   "metadata": {},
   "outputs": [
    {
     "name": "stdout",
     "output_type": "stream",
     "text": [
      "enter the lower range: 1\n",
      "enter the upper range: 9\n",
      "1\n",
      "2\n",
      "3\n",
      "5\n",
      "7\n"
     ]
    }
   ],
   "source": [
    "# find prime number in the given range:\n",
    "lower = int(input(\"enter the lower range: \"))\n",
    "upper = int(input(\"enter the upper range: \"))\n",
    "\n",
    "for i in range(lower, upper+1):\n",
    "    for j in range(2,i):\n",
    "        if i%j == 0:\n",
    "            break\n",
    "    else:\n",
    "        print(i)"
   ]
  },
  {
   "cell_type": "code",
   "execution_count": null,
   "id": "a57d4a87",
   "metadata": {},
   "outputs": [],
   "source": [
    "                        "
   ]
  }
 ],
 "metadata": {
  "kernelspec": {
   "display_name": "Python 3 (ipykernel)",
   "language": "python",
   "name": "python3"
  },
  "language_info": {
   "codemirror_mode": {
    "name": "ipython",
    "version": 3
   },
   "file_extension": ".py",
   "mimetype": "text/x-python",
   "name": "python",
   "nbconvert_exporter": "python",
   "pygments_lexer": "ipython3",
   "version": "3.11.5"
  }
 },
 "nbformat": 4,
 "nbformat_minor": 5
}
