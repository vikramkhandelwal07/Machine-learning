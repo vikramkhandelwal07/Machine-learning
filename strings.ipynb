{
 "cells": [
  {
   "cell_type": "markdown",
   "id": "70d6cca0",
   "metadata": {},
   "source": [
    "# strings"
   ]
  },
  {
   "cell_type": "code",
   "execution_count": null,
   "id": "67a51249",
   "metadata": {},
   "outputs": [],
   "source": [
    "# s ='hello'\n",
    "# s = \"hello\"\n",
    "# # for multi line strings \n",
    "# s = '''hello'''\n",
    "# s= \"\"\"hello\"\"\""
   ]
  },
  {
   "cell_type": "code",
   "execution_count": null,
   "id": "fdc1bf93",
   "metadata": {},
   "outputs": [],
   "source": [
    "s = \"vikram khandelwal\"\n",
    "print(s[::])\n",
    "# reverse a string\n",
    "print(s[::-1])    "
   ]
  },
  {
   "cell_type": "markdown",
   "id": "835a053c",
   "metadata": {},
   "source": [
    "### editing and deleting a string"
   ]
  },
  {
   "cell_type": "code",
   "execution_count": null,
   "id": "b0547082",
   "metadata": {},
   "outputs": [],
   "source": [
    "s = \"hello world\"\n",
    "del s\n",
    "print(s)"
   ]
  },
  {
   "cell_type": "code",
   "execution_count": null,
   "id": "485235ca",
   "metadata": {},
   "outputs": [],
   "source": [
    "s = \"hello world\""
   ]
  },
  {
   "cell_type": "code",
   "execution_count": null,
   "id": "71530156",
   "metadata": {},
   "outputs": [],
   "source": [
    "print('delhi' + ' ' + 'mumbai')\n",
    "# mul and add only work\n",
    "print(\"*\"*10)"
   ]
  },
  {
   "cell_type": "code",
   "execution_count": null,
   "id": "93ca50c1",
   "metadata": {},
   "outputs": [],
   "source": [
    "\"a\" > \"b\""
   ]
  },
  {
   "cell_type": "code",
   "execution_count": null,
   "id": "de195e5c",
   "metadata": {},
   "outputs": [],
   "source": [
    "\"mumbai\" > \"pune\"\n",
    "# lexicographically"
   ]
  },
  {
   "cell_type": "code",
   "execution_count": null,
   "id": "6b252411",
   "metadata": {},
   "outputs": [],
   "source": [
    "'hello' and 'world'"
   ]
  },
  {
   "cell_type": "code",
   "execution_count": null,
   "id": "01ee205e",
   "metadata": {},
   "outputs": [],
   "source": [
    "'hello' or 'world'"
   ]
  },
  {
   "cell_type": "code",
   "execution_count": null,
   "id": "cf6a5b88",
   "metadata": {},
   "outputs": [],
   "source": [
    "#in python if a string has characters then it is considered\n",
    "# as true warna false....."
   ]
  },
  {
   "cell_type": "code",
   "execution_count": null,
   "id": "62aca0d9",
   "metadata": {},
   "outputs": [],
   "source": [
    "'' and \"v\""
   ]
  },
  {
   "cell_type": "code",
   "execution_count": null,
   "id": "d7332f38",
   "metadata": {},
   "outputs": [],
   "source": [
    "'' or \"v\""
   ]
  },
  {
   "cell_type": "code",
   "execution_count": null,
   "id": "4fe589e5",
   "metadata": {},
   "outputs": [],
   "source": [
    "for i in \"hello\":\n",
    "    print(i)"
   ]
  },
  {
   "cell_type": "code",
   "execution_count": null,
   "id": "7f09306a",
   "metadata": {},
   "outputs": [],
   "source": [
    "for i in \"delhi\":\n",
    "    print(\"mumbai\")"
   ]
  },
  {
   "cell_type": "markdown",
   "id": "d76bbd7e",
   "metadata": {},
   "source": [
    "## common function"
   ]
  },
  {
   "cell_type": "code",
   "execution_count": 1,
   "id": "20ea45ba",
   "metadata": {},
   "outputs": [
    {
     "data": {
      "text/plain": [
       "11"
      ]
     },
     "execution_count": 1,
     "metadata": {},
     "output_type": "execute_result"
    }
   ],
   "source": [
    "len(\"hello world\")"
   ]
  },
  {
   "cell_type": "code",
   "execution_count": 2,
   "id": "7783696f",
   "metadata": {},
   "outputs": [
    {
     "data": {
      "text/plain": [
       "'w'"
      ]
     },
     "execution_count": 2,
     "metadata": {},
     "output_type": "execute_result"
    }
   ],
   "source": [
    "max(\"hello world\")"
   ]
  },
  {
   "cell_type": "code",
   "execution_count": 3,
   "id": "1477042c",
   "metadata": {},
   "outputs": [
    {
     "data": {
      "text/plain": [
       "' '"
      ]
     },
     "execution_count": 3,
     "metadata": {},
     "output_type": "execute_result"
    }
   ],
   "source": [
    "min(\"hello world\")"
   ]
  },
  {
   "cell_type": "code",
   "execution_count": 4,
   "id": "32283147",
   "metadata": {},
   "outputs": [
    {
     "data": {
      "text/plain": [
       "[' ', 'd', 'e', 'h', 'l', 'l', 'l', 'o', 'o', 'r', 'w']"
      ]
     },
     "execution_count": 4,
     "metadata": {},
     "output_type": "execute_result"
    }
   ],
   "source": [
    "sorted('hello world')"
   ]
  },
  {
   "cell_type": "code",
   "execution_count": 5,
   "id": "ee9b7837",
   "metadata": {},
   "outputs": [
    {
     "data": {
      "text/plain": [
       "['w', 'r', 'o', 'o', 'l', 'l', 'l', 'h', 'e', 'd', ' ']"
      ]
     },
     "execution_count": 5,
     "metadata": {},
     "output_type": "execute_result"
    }
   ],
   "source": [
    "sorted('hello world' , reverse = True)"
   ]
  },
  {
   "cell_type": "code",
   "execution_count": 8,
   "id": "3bd05bbb",
   "metadata": {},
   "outputs": [
    {
     "data": {
      "text/plain": [
       "'hello world'"
      ]
     },
     "execution_count": 8,
     "metadata": {},
     "output_type": "execute_result"
    }
   ],
   "source": [
    "# capitalise\n",
    "s = 'hello world'\n",
    "s.capitalize()\n",
    "\n"
   ]
  },
  {
   "cell_type": "code",
   "execution_count": 9,
   "id": "2f09d3e8",
   "metadata": {},
   "outputs": [
    {
     "data": {
      "text/plain": [
       "'Hello World'"
      ]
     },
     "execution_count": 9,
     "metadata": {},
     "output_type": "execute_result"
    }
   ],
   "source": [
    "s = 'hello world'\n",
    "s.title()"
   ]
  },
  {
   "cell_type": "code",
   "execution_count": 10,
   "id": "92555e0b",
   "metadata": {},
   "outputs": [
    {
     "data": {
      "text/plain": [
       "'HELLO WORLD'"
      ]
     },
     "execution_count": 10,
     "metadata": {},
     "output_type": "execute_result"
    }
   ],
   "source": [
    "s = 'hello world'\n",
    "s.upper()"
   ]
  },
  {
   "cell_type": "code",
   "execution_count": 11,
   "id": "18be11a1",
   "metadata": {},
   "outputs": [
    {
     "data": {
      "text/plain": [
       "'hello world'"
      ]
     },
     "execution_count": 11,
     "metadata": {},
     "output_type": "execute_result"
    }
   ],
   "source": [
    "s = 'hello world'\n",
    "s.lower()"
   ]
  },
  {
   "cell_type": "code",
   "execution_count": 14,
   "id": "3bbf565b",
   "metadata": {},
   "outputs": [
    {
     "data": {
      "text/plain": [
       "'HeLLO wORLD'"
      ]
     },
     "execution_count": 14,
     "metadata": {},
     "output_type": "execute_result"
    }
   ],
   "source": [
    "s = 'hEllo World'\n",
    "s.swapcase()"
   ]
  },
  {
   "cell_type": "code",
   "execution_count": 15,
   "id": "264465ea",
   "metadata": {},
   "outputs": [
    {
     "data": {
      "text/plain": [
       "2"
      ]
     },
     "execution_count": 15,
     "metadata": {},
     "output_type": "execute_result"
    }
   ],
   "source": [
    "\"my name is vikram\".count(\"i\")"
   ]
  },
  {
   "cell_type": "code",
   "execution_count": 17,
   "id": "025901cd",
   "metadata": {},
   "outputs": [
    {
     "data": {
      "text/plain": [
       "-1"
      ]
     },
     "execution_count": 17,
     "metadata": {},
     "output_type": "execute_result"
    }
   ],
   "source": [
    "\"my name is vikram\".find(\"is\")"
   ]
  },
  {
   "cell_type": "code",
   "execution_count": 18,
   "id": "00c98e4d",
   "metadata": {},
   "outputs": [
    {
     "data": {
      "text/plain": [
       "-1"
      ]
     },
     "execution_count": 18,
     "metadata": {},
     "output_type": "execute_result"
    }
   ],
   "source": [
    "\"my name is vikram\".find(\"j\")"
   ]
  },
  {
   "cell_type": "code",
   "execution_count": 19,
   "id": "dc688496",
   "metadata": {},
   "outputs": [
    {
     "ename": "ValueError",
     "evalue": "substring not found",
     "output_type": "error",
     "traceback": [
      "\u001b[1;31m---------------------------------------------------------------------------\u001b[0m",
      "\u001b[1;31mValueError\u001b[0m                                Traceback (most recent call last)",
      "Cell \u001b[1;32mIn[19], line 1\u001b[0m\n\u001b[1;32m----> 1\u001b[0m \u001b[38;5;124m\"\u001b[39m\u001b[38;5;124mmy name is vikram\u001b[39m\u001b[38;5;124m\"\u001b[39m\u001b[38;5;241m.\u001b[39mindex(\u001b[38;5;124m\"\u001b[39m\u001b[38;5;124mj\u001b[39m\u001b[38;5;124m\"\u001b[39m)\n",
      "\u001b[1;31mValueError\u001b[0m: substring not found"
     ]
    }
   ],
   "source": [
    "\"my name is vikram\".index(\"i\")"
   ]
  },
  {
   "cell_type": "code",
   "execution_count": 20,
   "id": "3ae8c4d0",
   "metadata": {},
   "outputs": [
    {
     "data": {
      "text/plain": [
       "'hi my name is vikram and I am a male'"
      ]
     },
     "execution_count": 20,
     "metadata": {},
     "output_type": "execute_result"
    }
   ],
   "source": [
    "# format\n",
    "name = 'vikram'\n",
    "gender = 'male'\n",
    "\"hi my name is {} and I am a {}\".format(name,gender)"
   ]
  },
  {
   "cell_type": "code",
   "execution_count": 21,
   "id": "3ee38648",
   "metadata": {},
   "outputs": [
    {
     "data": {
      "text/plain": [
       "['hi', 'my', 'name', 'is', 'vikram']"
      ]
     },
     "execution_count": 21,
     "metadata": {},
     "output_type": "execute_result"
    }
   ],
   "source": [
    "# split/join\n",
    "\"hi my name is vikram\".split()"
   ]
  },
  {
   "cell_type": "code",
   "execution_count": 22,
   "id": "36408713",
   "metadata": {},
   "outputs": [
    {
     "data": {
      "text/plain": [
       "['hi my name ', ' vikram']"
      ]
     },
     "execution_count": 22,
     "metadata": {},
     "output_type": "execute_result"
    }
   ],
   "source": [
    "\"hi my name is vikram\".split(\"is\")"
   ]
  },
  {
   "cell_type": "code",
   "execution_count": 25,
   "id": "abfa6902",
   "metadata": {},
   "outputs": [
    {
     "data": {
      "text/plain": [
       "'hi my name is vikram'"
      ]
     },
     "execution_count": 25,
     "metadata": {},
     "output_type": "execute_result"
    }
   ],
   "source": [
    "' '.join(['hi', 'my', 'name', 'is', 'vikram'])"
   ]
  },
  {
   "cell_type": "markdown",
   "id": "ee027aab",
   "metadata": {},
   "source": [
    "### find the length of the string without using the len() function\n",
    "\n",
    "s = input(\"enter the string: \")\n",
    "counter = 0\n",
    "for i in s:\n",
    "    counter +=1\n",
    "print(\"length of the string is : \",counter)    "
   ]
  },
  {
   "cell_type": "code",
   "execution_count": 27,
   "id": "3690af2f",
   "metadata": {},
   "outputs": [
    {
     "name": "stdout",
     "output_type": "stream",
     "text": [
      "enter the email: vikram@gmail\n",
      "vikram\n"
     ]
    }
   ],
   "source": [
    "#  extract username from the gmail\n",
    "# if the the mail is vikkikhandelwal@gmail.com\n",
    "# then username should be vikkikhandelwal\n",
    "\n",
    "s= input(\"enter the email: \")\n",
    "pos = s.index('@')\n",
    "print(s[0:pos])"
   ]
  },
  {
   "cell_type": "code",
   "execution_count": 31,
   "id": "11b445ba",
   "metadata": {},
   "outputs": [
    {
     "name": "stdout",
     "output_type": "stream",
     "text": [
      "enter the string: abba\n",
      "palindrome\n"
     ]
    }
   ],
   "source": [
    "# write a program to check whether the string is plaindrome or not\n",
    "#  abba\n",
    "\n",
    "s = input(\"enter the string: \")\n",
    "flag = True\n",
    "for i in range (0,len(s)//2):\n",
    "    if s[i] != s[len(s) - i-1]:\n",
    "        flag = False\n",
    "        print(\"not a palindrome\")\n",
    "        break\n",
    "if flag:\n",
    "    print(\"palindrome\")\n",
    "    "
   ]
  },
  {
   "cell_type": "code",
   "execution_count": null,
   "id": "b8d375e9",
   "metadata": {},
   "outputs": [],
   "source": []
  },
  {
   "cell_type": "code",
   "execution_count": null,
   "id": "ab29fd8d",
   "metadata": {},
   "outputs": [],
   "source": []
  }
 ],
 "metadata": {
  "kernelspec": {
   "display_name": "Python 3 (ipykernel)",
   "language": "python",
   "name": "python3"
  },
  "language_info": {
   "codemirror_mode": {
    "name": "ipython",
    "version": 3
   },
   "file_extension": ".py",
   "mimetype": "text/x-python",
   "name": "python",
   "nbconvert_exporter": "python",
   "pygments_lexer": "ipython3",
   "version": "3.11.7"
  },
  "widgets": {
   "application/vnd.jupyter.widget-state+json": {
    "state": {},
    "version_major": 2,
    "version_minor": 0
   }
  }
 },
 "nbformat": 4,
 "nbformat_minor": 5
}
