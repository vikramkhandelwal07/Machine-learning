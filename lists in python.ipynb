{
 "cells": [
  {
   "cell_type": "markdown",
   "id": "76980f91",
   "metadata": {},
   "source": [
    "### lists\n",
    "### list act as dynamic array and u can store any type of data.....\n",
    "### list is hetrogenous\n",
    "### speed of execution is slower than array \n",
    "### memory bhi jyada leta hai\n",
    "\n"
   ]
  },
  {
   "cell_type": "markdown",
   "id": "1d138b37",
   "metadata": {},
   "source": [
    "## creating a list"
   ]
  },
  {
   "cell_type": "code",
   "execution_count": 1,
   "id": "378573ba",
   "metadata": {},
   "outputs": [
    {
     "name": "stdout",
     "output_type": "stream",
     "text": [
      "[1, True, 5.6, (5+6j), 'hello']\n"
     ]
    }
   ],
   "source": [
    "print([1, True, 5.6, 5+6j,'hello'])"
   ]
  },
  {
   "cell_type": "code",
   "execution_count": 6,
   "id": "eec10a34",
   "metadata": {},
   "outputs": [
    {
     "name": "stdout",
     "output_type": "stream",
     "text": [
      "1\n",
      "[4, 5]\n",
      "4\n",
      "[1, 2, 3]\n"
     ]
    }
   ],
   "source": [
    "# indexing\n",
    "# slicing\n",
    "l = [1,2,3,[4,5]]\n",
    "print(l[0])\n",
    "print(l[-1])\n",
    "print(l[3][0])\n",
    "print(l[0:3])"
   ]
  },
  {
   "cell_type": "markdown",
   "id": "f43585d9",
   "metadata": {},
   "source": [
    "### append single item add karta hai "
   ]
  },
  {
   "cell_type": "code",
   "execution_count": 11,
   "id": "eeacc57f",
   "metadata": {},
   "outputs": [
    {
     "name": "stdout",
     "output_type": "stream",
     "text": [
      "[1, 2, 3, 4, 5, True]\n"
     ]
    }
   ],
   "source": [
    "l = [1,2,3,4,5]\n",
    "l.append(True)\n",
    "print(l)"
   ]
  },
  {
   "cell_type": "markdown",
   "id": "eea9c096",
   "metadata": {},
   "source": [
    "### extend pehle list mai convert karega ohir multiple item add karega"
   ]
  },
  {
   "cell_type": "code",
   "execution_count": 12,
   "id": "7868ab6e",
   "metadata": {},
   "outputs": [
    {
     "name": "stdout",
     "output_type": "stream",
     "text": [
      "[1, 2, 3, 4, 5, 6, 7, 8]\n"
     ]
    }
   ],
   "source": [
    "l = [1,2,3,4,5]\n",
    "l.extend([6,7,8])\n",
    "print(l)"
   ]
  },
  {
   "cell_type": "markdown",
   "id": "aea8291e",
   "metadata": {},
   "source": [
    "### insert--- l.insert(idx,value)"
   ]
  },
  {
   "cell_type": "code",
   "execution_count": 14,
   "id": "89b62a8b",
   "metadata": {},
   "outputs": [
    {
     "name": "stdout",
     "output_type": "stream",
     "text": [
      "[1, 100, 2, 3, 4, 5]\n"
     ]
    }
   ],
   "source": [
    "l = [1,2,3,4,5]\n",
    "l.insert(1,100)\n",
    "print(l)"
   ]
  },
  {
   "cell_type": "code",
   "execution_count": 15,
   "id": "f249fe9d",
   "metadata": {},
   "outputs": [
    {
     "name": "stdout",
     "output_type": "stream",
     "text": [
      "[1, 100, 2, 3, 4, 5]\n"
     ]
    }
   ],
   "source": [
    "print(l)"
   ]
  },
  {
   "cell_type": "code",
   "execution_count": null,
   "id": "382050c5",
   "metadata": {},
   "outputs": [],
   "source": [
    "l = [1,2,3,4,5]\n",
    "# editing\n"
   ]
  },
  {
   "cell_type": "code",
   "execution_count": null,
   "id": "eb91f77b",
   "metadata": {},
   "outputs": [],
   "source": [
    "# del - use to deelte the value by index\n",
    "# remove() - directly vlaue dal do shida delete kardega used when \n",
    "# we know that value exits but at which index it exists is not known"
   ]
  },
  {
   "cell_type": "markdown",
   "id": "1a5e7d53",
   "metadata": {},
   "source": [
    "### pop- deletes the last value by default agr idx nahi doge toh\n"
   ]
  },
  {
   "cell_type": "code",
   "execution_count": 18,
   "id": "b4692cee",
   "metadata": {},
   "outputs": [
    {
     "name": "stdout",
     "output_type": "stream",
     "text": [
      "[1, 2, 3, 4]\n"
     ]
    }
   ],
   "source": [
    "l = [1,2,3,4,5]\n",
    "l.pop()\n",
    "print(l)"
   ]
  },
  {
   "cell_type": "code",
   "execution_count": 21,
   "id": "c59df0df",
   "metadata": {},
   "outputs": [
    {
     "name": "stdout",
     "output_type": "stream",
     "text": [
      "[1, 2, 3, 4, 5, 1, 2, 3, 4, 5]\n",
      "[1, 2, 3, 4, 5, 1, 2, 3, 4, 5, 1, 2, 3, 4, 5]\n",
      "True\n"
     ]
    }
   ],
   "source": [
    "l1 = [1,2,3,4,5]\n",
    "l2 = [1,2,3,4,5]\n",
    "print(l1 + l2)\n",
    "print(l1*3)\n",
    "# membership in\n",
    "print(5 in l1)"
   ]
  },
  {
   "cell_type": "code",
   "execution_count": 24,
   "id": "474570a0",
   "metadata": {},
   "outputs": [
    {
     "name": "stdout",
     "output_type": "stream",
     "text": [
      "1\n",
      "2\n",
      "3\n",
      "[4, 5]\n"
     ]
    }
   ],
   "source": [
    "l = [1,2,3,4,5]\n",
    "l2 = [1,2,3,[4,5]]\n",
    "# for i in l:\n",
    "#     print(i)\n",
    "for i in l2:\n",
    "    print(i)"
   ]
  },
  {
   "cell_type": "code",
   "execution_count": 30,
   "id": "91a943a9",
   "metadata": {},
   "outputs": [
    {
     "name": "stdout",
     "output_type": "stream",
     "text": [
      "[5, 4, 3, 2, 1]\n"
     ]
    }
   ],
   "source": [
    "l2 = [1,2,3,4,5]\n",
    "print(sorted(l2 ,reverse = True))"
   ]
  },
  {
   "cell_type": "code",
   "execution_count": 32,
   "id": "89c3c485",
   "metadata": {},
   "outputs": [
    {
     "name": "stdout",
     "output_type": "stream",
     "text": [
      "[1, 4, 9, 16, 25]\n"
     ]
    }
   ],
   "source": [
    "l = [1,2,3,4,5]\n",
    "x= []\n",
    "for i in l:\n",
    "    x.append(i*i)\n",
    "print(x)"
   ]
  },
  {
   "cell_type": "code",
   "execution_count": null,
   "id": "513171db",
   "metadata": {},
   "outputs": [],
   "source": []
  }
 ],
 "metadata": {
  "kernelspec": {
   "display_name": "Python 3 (ipykernel)",
   "language": "python",
   "name": "python3"
  },
  "language_info": {
   "codemirror_mode": {
    "name": "ipython",
    "version": 3
   },
   "file_extension": ".py",
   "mimetype": "text/x-python",
   "name": "python",
   "nbconvert_exporter": "python",
   "pygments_lexer": "ipython3",
   "version": "3.11.5"
  }
 },
 "nbformat": 4,
 "nbformat_minor": 5
}
